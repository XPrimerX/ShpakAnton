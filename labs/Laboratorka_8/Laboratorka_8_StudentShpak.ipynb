{
 "cells": [
  {
   "cell_type": "markdown",
   "id": "34462b12-ffd8-4bd8-bfc2-e098328e3674",
   "metadata": {},
   "source": [
    "# Лабораторна робота 8"
   ]
  },
  {
   "cell_type": "markdown",
   "id": "5dffd5dc-8011-4111-88f4-488732f64035",
   "metadata": {},
   "source": [
    "# Тема. Структура даних граф. Алгоритми на графах\n",
    "# Мета: засвоїти представлення структури даних граф та основні алгоритми роботи з ними засобами Python."
   ]
  },
  {
   "cell_type": "markdown",
   "id": "a9632ed7-0172-4a04-8c88-6fed7b52a91f",
   "metadata": {},
   "source": [
    "## 1.Візуалізація граф за допомогою коду."
   ]
  },
  {
   "cell_type": "code",
   "execution_count": null,
   "id": "f6972e78-5c47-492b-ad18-eb7f45977dd4",
   "metadata": {},
   "outputs": [],
   "source": [
    "# Побудова графа\n",
    "G = nx.DiGraph()  # Використовуємо спрямований граф (можна змінити на Graph для нес напрямленого)\n",
    "G.add_edges_from([\n",
    "    ('A', 'B'),\n",
    "    ('A', 'C'),\n",
    "    ('B', 'D'),\n",
    "    ('B', 'E'),\n",
    "    ('C', 'F'),\n",
    "    ('E', 'F')\n",
    "])\n",
    "\n",
    "# Пошук у ширину (BFS) для знаходження всіх шляхів\n",
    "def bfs_paths(graph, start, goal):\n",
    "    queue = [(start, [start])]\n",
    "    while queue:\n",
    "        (vertex, path) = queue.pop(0)\n",
    "        for next in set(graph[vertex]) - set(path):\n",
    "            if next == goal:\n",
    "                yield path + [next]\n",
    "            else:\n",
    "                queue.append((next, path + [next]))\n",
    "\n",
    "# Виведення всіх шляхів від 'A' до 'F'\n",
    "paths = list(bfs_paths(G, 'A', 'F'))\n",
    "print(\"Усі шляхи від A до F:\", paths)\n",
    "\n",
    "# Візуалізація графа\n",
    "pos = nx.spring_layout(G)\n",
    "nx.draw(G, pos, with_labels=True, node_color='skyblue', edge_color='gray', node_size=2000, font_size=16)\n",
    "nx.draw_networkx_edge_labels(G, pos, edge_labels={(u, v): '' for u, v in G.edges()})\n",
    "plt.title(\"Візуалізація графа\")\n",
    "plt.show()"
   ]
  },
  {
   "cell_type": "markdown",
   "id": "73c2e55f-4dfd-459d-8062-c09d849e9550",
   "metadata": {},
   "source": [
    "## 2.Результат роботи коду:"
   ]
  },
  {
   "attachments": {
    "83a49edd-e0fd-426f-a27f-44aafc940917.jpg": {
     "image/jpeg": "[encoded data removed]"
    }
   },
   "cell_type": "markdown",
   "id": "0072ae9a-134e-4e3b-8f96-ff1ad61acbf9",
   "metadata": {},
   "source": [
    "![photo_2025-05-07_21-47-37.jpg](attachment:83a49edd-e0fd-426f-a27f-44aafc940917.jpg)"
   ]
  },
  {
   "cell_type": "markdown",
   "id": "356e148e-8f1d-4595-a7f4-18e297e4e61b",
   "metadata": {},
   "source": [
    "## 3.Алгоритм Дейкстри коду:"
   ]
  },
  {
   "cell_type": "code",
   "execution_count": null,
   "id": "3bad18d4-4154-44da-b875-b7992833a7da",
   "metadata": {},
   "outputs": [],
   "source": [
    "# Алгоритм Дейкстри для знаходження найкоротшого шляху від A до F\n",
    "dijkstra_path = nx.dijkstra_path(G, 'A', 'F')\n",
    "dijkstra_length = nx.dijkstra_path_length(G, 'A', 'F')\n",
    "\n",
    "print(\"Алгоритм Дейкстри:\")\n",
    "print(\"Шлях від A до F:\", dijkstra_path)\n",
    "print(\"Загальна довжина шляху:\", dijkstra_length)"
   ]
  },
  {
   "cell_type": "markdown",
   "id": "0e5ef62f-fd34-4469-b6f8-cdecb675bbe5",
   "metadata": {},
   "source": [
    "## 4.Алгоритм Беллмана-Форда коду:"
   ]
  },
  {
   "cell_type": "code",
   "execution_count": null,
   "id": "ccbd609f-d5ac-429b-8f8a-7c35f9d75f14",
   "metadata": {},
   "outputs": [],
   "source": [
    "# Алгоритм Беллмана-Форда для знаходження найкоротшого шляху від A до F\n",
    "bellman_ford_path = nx.bellman_ford_path(G, 'A', 'F')\n",
    "bellman_ford_length = nx.bellman_ford_path_length(G, 'A', 'F')\n",
    "\n",
    "print(\"Алгоритм Беллмана-Форда:\")\n",
    "print(\"Шлях від A до F:\", bellman_ford_path)\n",
    "print(\"Загальна довжина шляху:\", bellman_ford_length)"
   ]
  },
  {
   "cell_type": "markdown",
   "id": "4ebca8ff-463d-47b0-ba87-1605159d036d",
   "metadata": {},
   "source": [
    "## 5.Алгоритм Пошук у ширину коду:"
   ]
  },
  {
   "cell_type": "code",
   "execution_count": null,
   "id": "e55072b2-2543-4ce1-b999-25102a93b72f",
   "metadata": {},
   "outputs": [],
   "source": [
    "# Пошук у ширину з вершини A\n",
    "def bfs(graph, start):\n",
    "    visited = set()\n",
    "    queue = [start]\n",
    "    order = []\n",
    "    while queue:\n",
    "        vertex = queue.pop(0)\n",
    "        if vertex not in visited:\n",
    "            visited.add(vertex)\n",
    "            order.append(vertex)\n",
    "            queue.extend(set(graph[vertex]) - visited)\n",
    "    return order\n",
    "\n",
    "print(\"Пошук у ширину (BFS):\")\n",
    "print(\"Порядок обходу з A:\", bfs(G, 'A'))"
   ]
  },
  {
   "cell_type": "markdown",
   "id": "8ff762be-0669-4cec-a1ef-eec01db95fc2",
   "metadata": {},
   "source": [
    "## 6.Алгоритм Пошук у глибину  коду:"
   ]
  },
  {
   "cell_type": "code",
   "execution_count": null,
   "id": "17988386-a435-421d-ab85-1666e1978a63",
   "metadata": {},
   "outputs": [],
   "source": [
    "# Пошук у глибину з вершини A\n",
    "def dfs(graph, start, visited=None):\n",
    "    if visited is None:\n",
    "        visited = set()\n",
    "    visited.add(start)\n",
    "    order = [start]\n",
    "    for neighbor in graph[start]:\n",
    "        if neighbor not in visited:\n",
    "            order.extend(dfs(graph, neighbor, visited))\n",
    "    return order\n",
    "\n",
    "print(\"Пошук у глибину (DFS):\")\n",
    "print(\"Порядок обходу з A:\", dfs(G, 'A'))"
   ]
  },
  {
   "cell_type": "markdown",
   "id": "4276fbb8-fc2e-4a24-bda0-fe127139b54d",
   "metadata": {},
   "source": [
    "## 7.Відповіді на запитання:\n",
    "\n",
    "1. Що таке граф у термінах теорії графів? Наведіть приклади реальних ситуацій, де можна застосовувати графи.\n",
    "\n",
    "Граф — це математична структура, яка складається з вершин (вузлів) і ребер (з'єднань) між ними.\n",
    "Приклади застосування: соціальні мережі, дорожні карти, комп’ютерні мережі, маршрути доставки.\n",
    "\n",
    "2. Які основні види графів існують? Наведіть відмінності між орієнтованими і неорієнтованими графами.\n",
    "\n",
    "Основні види графів:\n",
    "\n",
    "Орієнтований граф: ребра мають напрямок (наприклад, A → B).\n",
    "\n",
    "Неорієнтований граф: ребра без напрямку (наприклад, A — B).\n",
    "Відмінність: напрямок ребра важливий в орієнтованих графах, а в неорієнтованих — ні.\n",
    "\n",
    "3.  Як можна представити граф у пам’яті комп'ютера? Опишіть структури даних, які використовуються для зберігання графів.\n",
    "\n",
    "Список суміжності — зберігає кожну вершину з переліком її сусідів (ефективно за пам’яттю).\n",
    "\n",
    "Матриця суміжності — квадратна матриця, де зберігається наявність ребра між вершинами (зручно для щільних графів).\n",
    "\n",
    "4. Як працює алгоритм пошуку в ширину (BFS) на графах? Наведіть приклади ситуацій, де застосовується цей алгоритм.\n",
    "\n",
    "Алгоритм проходить граф рівень за рівнем від стартової вершини, використовуючи чергу.\n",
    "\n",
    "Приклади застосування: пошук найкоротшого шляху у невзважених графах, перевірка зв’язності.\n",
    "\n",
    "5. Що таке алгоритм пошуку в глибину (DFS) на графах? Як він відрізняється від BFS? Дайте приклади задач, де використовується DFS.\n",
    "\n",
    "Алгоритм заглиблюється якнайдалі по кожному шляху, використовуючи стек або рекурсію.\n",
    "\n",
    "Відмінність від BFS: DFS іде в глибину, BFS — вшир.\n",
    "\n",
    "Приклади задач: знаходження компонент зв’язності, топологічне сортування.\n",
    "\n",
    "6. Опишіть алгоритм Дейкстри для пошуку найкоротшого шляху в графі. Які умови повинні виконуватися для успішної роботи цього алгоритму? можешь відповісти коротко\n",
    "\n",
    "Алгоритм Дейкстри:\n",
    "\n",
    "Знаходить найкоротші шляхи від початкової вершини до всіх інших у зваженому графі без від’ємних ваг.\n",
    "\n",
    "Умови: усі ваги ребер повинні бути невід’ємними."
   ]
  },
  {
   "cell_type": "markdown",
   "id": "34d53511-1bb0-41e2-bfcc-9e1e47863992",
   "metadata": {},
   "source": [
    "## 8.Висновок:\n",
    "Засвоїв представлення структури даних граф та основні алгоритми роботи з ними засобами Python."
   ]
  }
 ],
 "metadata": {
  "kernelspec": {
   "display_name": "Python 3 (ipykernel)",
   "language": "python",
   "name": "python3"
  },
  "language_info": {
   "codemirror_mode": {
    "name": "ipython",
    "version": 3
   },
   "file_extension": ".py",
   "mimetype": "text/x-python",
   "name": "python",
   "nbconvert_exporter": "python",
   "pygments_lexer": "ipython3",
   "version": "3.13.2"
  }
 },
 "nbformat": 4,
 "nbformat_minor": 5
}
