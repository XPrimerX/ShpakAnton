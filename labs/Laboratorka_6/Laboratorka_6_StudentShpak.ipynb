{
 "cells": [
  {
   "cell_type": "markdown",
   "id": "e514f2ca-ec4d-4f94-be55-00769b7fccec",
   "metadata": {},
   "source": [
    "# Лабораторна робота 6"
   ]
  },
  {
   "cell_type": "markdown",
   "id": "caf30428-6809-403f-a67f-3e1ee218aa56",
   "metadata": {},
   "source": [
    "# Тема. Структури даних стек і черга\n",
    "# Мета: засвоїти головні функції та алгоритми роботи зі стеком і чергою засобами Python."
   ]
  },
  {
   "cell_type": "markdown",
   "id": "ca66d83e-fc41-43bc-9976-e44a8e169450",
   "metadata": {},
   "source": [
    "## 1.функція pop_n(), що видаляє елементи стека з його початку до номера n включно"
   ]
  },
  {
   "cell_type": "code",
   "execution_count": null,
   "id": "78ad081e-bea2-46e5-af29-7c9e2285277c",
   "metadata": {},
   "outputs": [],
   "source": [
    "def pop_n(stack, n):\n",
    "    for _ in range(min(n + 1, len(stack))):\n",
    "        stack.pop()"
   ]
  },
  {
   "cell_type": "markdown",
   "id": "62137727-b1a6-4c6e-ae2c-2a4d495f6651",
   "metadata": {},
   "source": [
    "## 2.оцінка асимптотичну складність (у середньому і в найгіршому разі) процедур search, insert і delete роботи зі стеком."
   ]
  },
  {
   "cell_type": "markdown",
   "id": "7ca19452-0c62-4147-bd0b-3408d8e8ec0b",
   "metadata": {},
   "source": [
    "Insert (push) – додавання елемента на вершину:\n",
    "Середній випадок: O(1)\n",
    "Найгірший випадок: O(1)"
   ]
  },
  {
   "cell_type": "markdown",
   "id": "cccd92ab-9ae7-4075-a1cf-756a1706d52c",
   "metadata": {},
   "source": [
    "Delete (pop) – видалення елемента з вершини:\n",
    "Середній випадок: O(1)\n",
    "Найгірший випадок: O(1)"
   ]
  },
  {
   "cell_type": "code",
   "execution_count": null,
   "id": "fb10ded8-6ade-44d6-9d49-f2b2f61de92c",
   "metadata": {},
   "outputs": [],
   "source": [
    "Search – пошук елемента в стеку:\n",
    "Середній випадок: O(n)\n",
    "Найгірший випадок: O(n) (елемент у самому низу або відсутній)"
   ]
  },
  {
   "cell_type": "markdown",
   "id": "c2b6588b-bd4b-4596-b9d9-fba6f68608bd",
   "metadata": {},
   "source": [
    "## 3.Модуль Queue"
   ]
  },
  {
   "cell_type": "code",
   "execution_count": null,
   "id": "76c74b7d-ad9a-421f-9119-4f8baaf64842",
   "metadata": {},
   "outputs": [],
   "source": [
    "q = queue.Queue()\n",
    "\n",
    "def producer():\n",
    "    for i in range(5):\n",
    "        print(f'Producing {i}')\n",
    "        q.put(i)\n",
    "        time.sleep(1)\n",
    "\n",
    "def consumer():\n",
    "    while True:\n",
    "        item = q.get()\n",
    "        if item is None:\n",
    "            break\n",
    "        print(f'Consuming {item}')\n",
    "        time.sleep(2)\n",
    "\n",
    "t1 = threading.Thread(target=producer)\n",
    "t2 = threading.Thread(target=consumer)\n",
    "\n",
    "t1.start()\n",
    "t2.start()\n",
    "\n",
    "t1.join()\n",
    "q.put(None)\n",
    "t2.join()"
   ]
  },
  {
   "cell_type": "markdown",
   "id": "b7ef2eba-c232-4d54-a706-eb227922cf96",
   "metadata": {},
   "source": [
    "## 4.Функція print_n(), що друкує елементи черги з його початку дономера n включно;"
   ]
  },
  {
   "cell_type": "code",
   "execution_count": null,
   "id": "ce57ec0e-eab6-4dbb-b26a-86634cef9d36",
   "metadata": {},
   "outputs": [],
   "source": [
    "\n",
    "def print_n(q, n):\n",
    "    if n < 0:\n",
    "        print(\"n має бути невід’ємним\")\n",
    "        return\n",
    "\n",
    "    temp_queue = queue.Queue()\n",
    "    count = 0\n",
    "\n",
    "    while not q.empty() and count <= n:\n",
    "        item = q.get()\n",
    "        print(item)\n",
    "        temp_queue.put(item)\n",
    "        count += 1\n",
    "\n",
    "    # Повертаємо елементи назад у чергу\n",
    "    while not temp_queue.empty():\n",
    "        q.put(temp_queue.get())"
   ]
  },
  {
   "cell_type": "markdown",
   "id": "b82911d2-a0de-4622-9b83-b021240b9511",
   "metadata": {},
   "source": [
    "## 5.Оцінка асимптотичну складність (у середньому і в найгіршому разі)процедур search, insert і delete роботи з чергою."
   ]
  },
  {
   "cell_type": "markdown",
   "id": "8e3dbe27-05fa-4224-9f83-42e701c7a64c",
   "metadata": {},
   "source": [
    "Insert (push) – додавання елемента на вершину:\n",
    "Середній випадок: O(1)\n",
    "Найгірший випадок: O(1)"
   ]
  },
  {
   "cell_type": "markdown",
   "id": "aa637fe8-8279-4896-bae3-9bda28b3116b",
   "metadata": {},
   "source": [
    "Delete (pop) – видалення елемента з вершини:\n",
    "Середній випадок: O(1)\n",
    "Найгірший випадок: O(1)"
   ]
  },
  {
   "cell_type": "markdown",
   "id": "560e1e53-dcf1-4b05-b51c-23136d400166",
   "metadata": {},
   "source": [
    "Search – пошук елемента в стеку:\n",
    "Середній випадок: O(n)\n",
    "Найгірший випадок: O(n) "
   ]
  },
  {
   "cell_type": "markdown",
   "id": "3b286a76-2220-465c-b31b-b672f2895be4",
   "metadata": {},
   "source": [
    "## 6.Приклад із методички функцій:Stack(),push(item),pop(),peek(),isEmpty(),size()"
   ]
  },
  {
   "cell_type": "code",
   "execution_count": null,
   "id": "242eb244-1b86-4269-b7c3-16db8ff549a1",
   "metadata": {},
   "outputs": [],
   "source": [
    "class Stack:\n",
    "    def __init__(self):\n",
    "        self.items = []\n",
    "    \n",
    "    def isEmpty(self):\n",
    "        return self.items == []\n",
    "    \n",
    "    def push(self, item):\n",
    "        self.items.append(item)\n",
    "    \n",
    "    def pop(self):\n",
    "        return self.items.pop()\n",
    "    \n",
    "    def peek(self):\n",
    "        return self.items[-1]\n",
    "    \n",
    "    def size(self):\n",
    "        return len(self.items)\n",
    "\n",
    "s = Stack()\n",
    "s.push('hello')\n",
    "s.push('true')\n",
    "print(s.pop())"
   ]
  },
  {
   "cell_type": "markdown",
   "id": "6d998a1b-7fde-4b29-9865-0d7ea196c21a",
   "metadata": {},
   "source": [
    "## 7.Приклад із методички функцій:enqueue(item),dequeue(),isEmpty(),size()"
   ]
  },
  {
   "cell_type": "code",
   "execution_count": null,
   "id": "7aa14589-91e3-4d05-835d-bfa55f78010b",
   "metadata": {},
   "outputs": [],
   "source": [
    "class Queue:\n",
    "    def __init__(self):\n",
    "        self.items = []\n",
    "    \n",
    "    def isEmpty(self):\n",
    "        return self.items == []\n",
    "    \n",
    "    def enqueue(self, item):\n",
    "        self.items.insert(0,item)\n",
    "    \n",
    "    def dequeue(self):\n",
    "        return self.items.pop()\n",
    "    \n",
    "    def size(self):\n",
    "        return len(self.items)\n",
    "        \n",
    "q = Queue()\n",
    "q.isEmpty()\n",
    "q.enqueue(2)\n",
    "q.isEmpty()\n",
    "q.size()"
   ]
  },
  {
   "cell_type": "markdown",
   "id": "3b82c631-f24b-47bf-bf3c-f31ae7011765",
   "metadata": {},
   "source": [
    "## 9.Відповіді на запитання:\n",
    "\n",
    "1. Що таке стек і які операції можна виконувати зі стеком?\n",
    "\n",
    "\n",
    "Стек – це базова структура даних, у якій можна тільки вставляти або\n",
    "видаляти елементи на початку стека. Він нагадує стопку книг. Якщо ми хочемо\n",
    "дістати книгу із середини стека, ми спочатку маємо взяти книги, що лежать\n",
    "зверху.\n",
    "Операції зі стеком\n",
    "\n",
    "    1. Stack() – створює новий пустий стек. Параметри не потрібні, повертає\n",
    "    пустий стек.\n",
    "\n",
    "    2. push(item) – додає новий елемент на вершину стека. Параметром є\n",
    "    елемент; функція нічого не повертає.\n",
    "    \n",
    "    3. pop() – видаляє верхній елемент зі стека. Параметри не потребуються,\n",
    "    функція повертає елемент. Стек змінюється.\n",
    "    \n",
    "    4. peek() – повертає верхній елемент стека, але не видаляє його. Параметри\n",
    "    не потребуються, стек не модифікується.\n",
    "    \n",
    "    5. isEmpty() – перевіряє стек щодо пустоти. Параметри не потребуються,\n",
    "    повертає бульове значення.\n",
    "    \n",
    "    6. size() – повертає кількість елементів у стеку. Параметри не\n",
    "    потребуються, тип результату – ціле число.\n",
    "\n",
    "2. Яка основна відмінність між стеком та чергою?\n",
    "    Стек– останній доданий елемент буде першим, що видаляється.\n",
    "    Черга– перший доданий елемент буде першим, що видаляється.\n",
    "\n",
    "3. Як ви можете реалізувати стек за допомогою масиву і за допомогою зв’язаного списку? Які переваги та недоліки кожного підходу?\n",
    "\n",
    "Переваги масиву:\n",
    "    Простота реалізації.\n",
    "    Доступ до елементів здійснюється за індексом (швидке виконання операцій).\n",
    "\n",
    "Недоліки масиву:\n",
    "    Фіксований розмір (важко змінювати).\n",
    "    Витрати пам’яті на непотрібні елементи при неефективному використанні.\n",
    "\n",
    "Переваги зв’язаного списку:\n",
    "    Динамічний розмір (можна додавати/видаляти без обмежень).\n",
    "    Ефективне використання пам’яті (немає зайвих елементів).\n",
    "\n",
    "Недоліки зв’язаного списку:\n",
    "    Додаткові витрати пам’яті на зберігання покажчиків.\n",
    "    Доступ до елементів не такий швидкий, як у масиві.\n",
    "\n",
    "4. Які є застосування стека та черги в програмуванні і реальному житті?\n",
    "\n",
    "Застосування стека:\n",
    "    У програмуванні:\n",
    "   \n",
    "        Рекурсія – Виклики функцій зберігаються у стеку, щоб повернутися до попереднього стану.\n",
    "        Збереження історії – Веб-браузери використовують стек для переходу назад (кожна сторінка додається у стек).\n",
    "        Алгоритми обходу графів – Використовується в DFS (глибокий пошук).\n",
    "        Відкат операцій – У текстових редакторах та графічних програмах (Ctrl + Z).\n",
    "    У реальному житті:\n",
    "   \n",
    "        Стопка книг або тарілок – Остання додана тарілка буде першою, що забирається.\n",
    "        Історія дій у смартфоні – Останні додатки або повідомлення закриваються першими.\n",
    "Застосування черги:\n",
    "\n",
    "    У програмуванні:\n",
    "        Операційні системи – Планування процесів, обробка запитів у багатозадачності.\n",
    "        Обробка даних у потоках – Наприклад, у принтерах (перший документ друкується першим).\n",
    "        Швидкі алгоритми пошуку (BFS) – Використовується для пошуку найкоротшого шляху у графах.\n",
    "\n",
    "     У реальному житті:\n",
    "        Черга в супермаркеті – Перший клієнт обслуговується першим.\n",
    "        Черга на дорозі – Автомобілі рухаються у порядку надходження.\n",
    "        Очікування дзвінка в службі підтримки – Клієнти обробляються у порядку надходження запитів."
   ]
  },
  {
   "cell_type": "markdown",
   "id": "204a58c2-6312-490a-a4ab-526f9cf16cdd",
   "metadata": {},
   "source": [
    "## 10.Висновок:\n",
    "Засвоїв головні функції та алгоритми роботи зі стеком і чергою засобами Python."
   ]
  }
 ],
 "metadata": {
  "kernelspec": {
   "display_name": "Python 3 (ipykernel)",
   "language": "python",
   "name": "python3"
  },
  "language_info": {
   "codemirror_mode": {
    "name": "ipython",
    "version": 3
   },
   "file_extension": ".py",
   "mimetype": "text/x-python",
   "name": "python",
   "nbconvert_exporter": "python",
   "pygments_lexer": "ipython3",
   "version": "3.13.2"
  }
 },
 "nbformat": 4,
 "nbformat_minor": 5
}
