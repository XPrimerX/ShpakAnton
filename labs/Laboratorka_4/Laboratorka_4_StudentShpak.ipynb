{
 "cells": [
  {
   "cell_type": "markdown",
   "id": "ca62c739-53e4-444c-843b-94cef2264a7d",
   "metadata": {},
   "source": [
    "# Лабораторна робота 4"
   ]
  },
  {
   "cell_type": "markdown",
   "id": "c8dcfced-1006-4cfa-aa0c-46fe4dce5fbb",
   "metadata": {},
   "source": [
    "# Тема. Рекурсія. Стратегія «розділяй і володарюй»\n",
    "# Мета: засвоїти технологію реалізації рекурсивних алгоритмів засобами Python і оцінювання їх складності з використанням головної теореми рекурсії."
   ]
  },
  {
   "cell_type": "markdown",
   "id": "e3c1da46-e927-4ebd-b78d-0cc3ee9190c5",
   "metadata": {},
   "source": [
    "## 1.Факторіал на мові Python:"
   ]
  },
  {
   "cell_type": "code",
   "execution_count": null,
   "id": "79a13b46-a043-416f-95f6-0e25ee376e81",
   "metadata": {},
   "outputs": [],
   "source": [
    "def FacSimple(n):\n",
    "    #Обчислення факторіала за допомогою цикла while\n",
    "    factorial = 1\n",
    "    i = 1\n",
    "    while i <= n:\n",
    "         factorial *= i\n",
    "         i += 1\n",
    "    return factorial"
   ]
  },
  {
   "cell_type": "markdown",
   "id": "19b0a89b-af42-4656-85f8-efea1bc8385c",
   "metadata": {},
   "source": [
    "## 2.Реалізувати процедуру обчислення факторіалу за допомогою циклу for та оцінка асимптотичну складність алгоритму."
   ]
  },
  {
   "cell_type": "markdown",
   "id": "e191c6f2-cf0e-46df-a198-c156dc0bb8d3",
   "metadata": {},
   "source": [
    "1. Кількість ітерацій в циклі пропорційна n.\n",
    "\n",
    "2. На кожній ітерації виконується одна операція множення.\n",
    "Складність алгоритму 𝑂(𝑛) (лінійна), тому що кількість операцій зростає пропорційно розміру n."
   ]
  },
  {
   "cell_type": "code",
   "execution_count": null,
   "id": "fa296ce0-2e78-44cc-886e-0da59d5c7641",
   "metadata": {},
   "outputs": [],
   "source": [
    "def factorial(n):\n",
    "    result = 1\n",
    "    for i in range(2, n + 1):  \n",
    "        result *= i\n",
    "    return result"
   ]
  },
  {
   "cell_type": "markdown",
   "id": "689784e4-55fc-425a-aa1d-c8a584f53998",
   "metadata": {},
   "source": [
    "## 3.Оцінка асимптотичну складність рекурсивного алгоритму обчислення факторіалу."
   ]
  },
  {
   "cell_type": "code",
   "execution_count": null,
   "id": "860a287f-2269-456e-9342-6d5686985cb3",
   "metadata": {},
   "outputs": [],
   "source": [
    "def fac(n):\n",
    "    # Обчислення факторіала через рекурсію\n",
    "    if n == 0:\n",
    "        return(1)\n",
    "    return fac(n-1) * n"
   ]
  },
  {
   "cell_type": "markdown",
   "id": "095e8489-53f9-40ed-a5c1-33a8a745e0f5",
   "metadata": {},
   "source": [
    "1. Кількість викликів функції прямо залежить від значення 𝑛, тобто алгоритм здійснює 𝑛 рекурсивних викликів.\n",
    "\n",
    "2. Операції множення та присвоєння виконуються на кожному рівні рекурсії.\n",
    "Складність рекурсивного алгоритму обчислення факторіалу становить 𝑂(𝑛),оскільки кількість операцій пропорційна 𝑛."
   ]
  },
  {
   "cell_type": "markdown",
   "id": "537346f0-c613-4d96-9f68-b2c7494bcb68",
   "metadata": {},
   "source": [
    "## 4.Рекурсивного алгоритму обчислення на мові Python:"
   ]
  },
  {
   "cell_type": "code",
   "execution_count": null,
   "id": "ee3d9e97-d42d-49b4-823e-75974b6ab54a",
   "metadata": {},
   "outputs": [],
   "source": [
    "def fibonacci(n):\n",
    "\n",
    "    #Рекурсивне обчислення n-го числа Фібоначчі\n",
    "    if n == 0:\n",
    "        return 0\n",
    "    if n in (1, 2):\n",
    "        return 1\n",
    "    return fibonacci(n - 1) + fibonacci(n - 2)"
   ]
  },
  {
   "cell_type": "markdown",
   "id": "586598f7-a770-4e73-8388-9edec6e6e98b",
   "metadata": {},
   "source": [
    "## 5.Оцінка асимптотичну складність рекурсивного алгоритму обчислення n-го числа Фібоначчі.\n",
    "\n",
    "1. Кожен виклик функції генерує два нових виклики (для 𝑛−1та 𝑛−2), створюючи дерево викликів.\n",
    "\n",
    "2. Глибина цього дерева дорівнює 𝑛, а загальна кількість викликів функції є приблизно експоненційною.\n",
    "Отже,складність цього алгоритму становить 𝑂($2^n$),оскільки кількість рекурсивних викликів збільшується експоненційно зі зростанням 𝑛."
   ]
  },
  {
   "cell_type": "markdown",
   "id": "bf2b1de7-3895-450b-a398-bb87516dd944",
   "metadata": {},
   "source": [
    "## 6.Сортування злиттям на мові Python:"
   ]
  },
  {
   "cell_type": "code",
   "execution_count": null,
   "id": "898fca3f-a228-4a96-a747-2ef81ae1b67d",
   "metadata": {},
   "outputs": [],
   "source": [
    "def merge(left, right):\n",
    "\n",
    "    #Зливає два відсортованих масиви left і right у один\n",
    "\n",
    "    result = []\n",
    "    i, j = 0, 0\n",
    "    while i < len(left) and j < len(right):\n",
    "        if left[i] <= right[j]:\n",
    "            result.append(left[i])\n",
    "            i += 1\n",
    "        else:\n",
    "            result.append(right[j])\n",
    "            j += 1\n",
    "    result += left[i:]\n",
    "    result += right[j:]\n",
    "    return result\n",
    "def mergesort(list):\n",
    "\n",
    "    #Рекурсивна функція сортування з використанням попередньої функції\n",
    "\n",
    "    if len(list) < 2:\n",
    "        return list\n",
    "    middle = len(list) // 2\n",
    "    left = mergesort(list[:middle])\n",
    "    right = mergesort(list[middle:])\n",
    "    return merge(left, right)"
   ]
  },
  {
   "cell_type": "markdown",
   "id": "5def05a9-5754-401b-ac0c-32d3e201987b",
   "metadata": {},
   "source": [
    "## 7.Оцінити асимптотичну складність алгоритму сортування злиттям, використовуючи головну теорему рекурсії."
   ]
  },
  {
   "attachments": {
    "e03d43e8-2998-4301-8ce7-3583bc31efd8.jpg": {
     "image/jpeg": "[encoded data removed]"
    },
    "fb5887eb-edff-42ae-94fb-1bbedd107b22.jpg": {
     "image/jpeg": "[encoded data removed]"
    }
   },
   "cell_type": "markdown",
   "id": "aa419ec3-bad4-43fc-9950-649fa3bee0ad",
   "metadata": {},
   "source": [
    "Застосування головної теореми рекурсії: Рівняння має вигляд\n",
    "![photo_2025-04-02_22-02-12.jpg](attachment:fb5887eb-edff-42ae-94fb-1bbedd107b22.jpg)\n",
    "\n",
    "Розрахуємо значення логарифмічного порогу:\n",
    "\n",
    "![photo_2025-04-02_22-05-56.jpg](attachment:e03d43e8-2998-4301-8ce7-3583bc31efd8.jpg)\n",
    "\n",
    "Якщо 𝑝=𝑑,тому складність алгоритму становить:𝑂(𝑛log𝑛)."
   ]
  },
  {
   "cell_type": "markdown",
   "id": "2cfb0fc9-36ee-411f-bfff-8895beac3ce0",
   "metadata": {},
   "source": [
    "## 8.Відповіді на запитання:\n",
    "\n",
    "1. Надати визначення складності задачі із символом Ω.\n",
    "Складність задачі із символом Ω Складність задачі з використанням символу Ω  писує мінімальну кількість ресурсів (час або пам'ять), необхідних для виконання алгоритму в найкращому випадку. Наприклад, якщо алгоритм має складність Ω(𝑛), це означає, що неможливо виконати його швидше за лінійний час для завдання розміру 𝑛.\n",
    "\n",
    "2. Функція часової складності має вигляд: F(N) = $𝑁^3$ + 7$𝑁^2$ − 14N. Як записати асимптотичну складність у O-нотації?\n",
    "O-нотація оцінює верхню межу складності, тому нас цікавить термін, який зростає найшвидше при великих N.\n",
    "$𝑁^3$ зростає швидше за $𝑁^2$ і  𝑁.\n",
    "Тому,7$𝑁^2$і −14𝑁 можна знехтувати\n",
    "Отже,O($N^3$)\n",
    "\n",
    "3. Функція часової складності має вигляд: F(N) = 1.01N + $𝑁^{10}$ Як записати асимптотичну складність у O-нотації?\n",
    "N¹⁰ зростає набагато швидше, ніж N.\n",
    "Тому,1.01N можна знехтувати\n",
    "Отже,O($N^{10}$)\n",
    "\n",
    "4. Функція часової складності має вигляд: F(N) = $𝑁^{1.3}$ + 10 log2N.Як записати асимптотичну складність у O-нотації?\n",
    "$𝑁^1.3$  зростає набагато швидше, ніж log2N\n",
    "Тому,log2N можна знехтувати\n",
    "Отже,O($𝑁^{1.3}$)\n",
    "\n",
    "5. У чому полягає ідея розпаралелювання обчислень і для чого вона використовується?\n",
    "Ідея розпаралелювання обчислень Розпаралелювання обчислень полягає у виконанні кількох частин завдання одночасно, використовуючи багатоядерні процесори чи розподілені системи. Це дозволяє:\n",
    "Скоротити час виконання великих завдань.\n",
    "Збільшити продуктивність системи.\n",
    "Використовується для задач, які можна розділити на незалежні підзадачі.\n",
    "З алгоритмів лабораторної роботи, сортування злиттям дозволяє розпаралелювання, оскільки підмасиви можуть бути сортувані незалежно.\n",
    "\n",
    "6. Які існують способи підвищення обчислювальної швидкості алгоритмів? Який з них є найефективнішим?\n",
    "Оптимізація коду (зменшення кількості зайвих операцій).\n",
    "Використання ефективних структур даних (наприклад, хеш-таблиці чи дерева).\n",
    "Алгоритмічна оптимізація (перехід до алгоритмів з меншою складністю).\n",
    "Розпаралелювання (запуск на кількох ядрах або комп’ютерах).\n",
    "Найефективним є підхід, який забезпечує оптимальне поєднання всіх методів для конкретної задачі."
   ]
  },
  {
   "cell_type": "markdown",
   "id": "136d6d2a-75e5-417b-be3a-266078b434ba",
   "metadata": {},
   "source": [
    "## 9.Висновок:\n",
    "Засвоїв технологію реалізації рекурсивних алгоритмів засобами Python і оцінювання їх складності з використанням головної теореми рекурсії.Навчився генерувати випадкові послідовності чисел засобами Python."
   ]
  }
 ],
 "metadata": {
  "kernelspec": {
   "display_name": "Python 3 (ipykernel)",
   "language": "python",
   "name": "python3"
  },
  "language_info": {
   "codemirror_mode": {
    "name": "ipython",
    "version": 3
   },
   "file_extension": ".py",
   "mimetype": "text/x-python",
   "name": "python",
   "nbconvert_exporter": "python",
   "pygments_lexer": "ipython3",
   "version": "3.13.2"
  }
 },
 "nbformat": 4,
 "nbformat_minor": 5
}
